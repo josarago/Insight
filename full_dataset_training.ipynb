{
 "cells": [
  {
   "cell_type": "markdown",
   "metadata": {},
   "source": [
    "# Training the model on the full data set\n",
    "to make every wine accessible, we train the model again on the full dataset"
   ]
  },
  {
   "cell_type": "code",
   "execution_count": 1,
   "metadata": {
    "collapsed": true
   },
   "outputs": [],
   "source": [
    "from IPython.display import display, clear_output\n",
    "import os\n",
    "import seaborn as sns\n",
    "import numpy as np\n",
    "from importlib import reload\n",
    "# import random\n",
    "# import pickle\n",
    "# import time\n",
    "# import matplotlib.pyplot as plt\n",
    "# import itertools\n",
    "# from sklearn.feature_extraction.text import TfidfVectorizer\n",
    "# from sklearn.metrics.pairwise import cosine_similarity, cosine_distances\n",
    "# from sklearn.metrics import confusion_matrix\n",
    "\n",
    "# from scipy.spatial.distance import cosine\n",
    "# from nltk.corpus import words\n",
    "# import gensim\n",
    "\n",
    "from gensim.models.doc2vec import Doc2Vec, TaggedDocument\n",
    "# from nltk.tokenize import word_tokenize\n",
    "\n",
    "# from collections import Counter\n",
    "%matplotlib inline\n",
    "from wine_and_cheese_utils import WineList, df_columns, regexp_tokenizer\n",
    "\n",
    "import warnings\n",
    "    \n",
    "warnings.filterwarnings(\"ignore\")"
   ]
  },
  {
   "cell_type": "code",
   "execution_count": 2,
   "metadata": {
    "collapsed": true
   },
   "outputs": [],
   "source": [
    "wl = WineList(file='cleaned')\n"
   ]
  },
  {
   "cell_type": "code",
   "execution_count": 6,
   "metadata": {},
   "outputs": [],
   "source": [
    "# collect the tagged document object\n",
    "tagged_data = [TaggedDocument(words=wl.tokenize(row.description), tags=[row.Index]) for row in wl.df.itertuples()]"
   ]
  },
  {
   "cell_type": "code",
   "execution_count": 4,
   "metadata": {},
   "outputs": [],
   "source": [
    "retrain = False\n",
    "\n",
    "column_name = 'region_1'\n",
    "# load or train the model\n",
    "model_file_name = 'doc2vec_on_{}_no_region_variety_full_dataset.model'.format(column_name)\n",
    "if not os.path.exists(model_file_name) or retrain:\n",
    "    max_epochs = 20\n",
    "    vec_size = 40\n",
    "    alpha = 0.025\n",
    "\n",
    "    model = Doc2Vec(vector_size=vec_size,\n",
    "                    alpha=alpha, \n",
    "    #                 min_alpha=0.00025,\n",
    "                    min_count=10,\n",
    "                    dm =0)\n",
    "\n",
    "    model.build_vocab(tagged_data)\n",
    "\n",
    "    for epoch in range(max_epochs):\n",
    "        clear_output(wait=True)\n",
    "        display('iteration {0}'.format(epoch))\n",
    "        model.train(tagged_data,\n",
    "                    total_examples=model.corpus_count,\n",
    "                    epochs=model.epochs)\n",
    "        # decrease the learning rate\n",
    "        model.alpha -= 0.0002\n",
    "        # fix the learning rate, no decay\n",
    "        model.min_alpha = model.alpha\n",
    "\n",
    "    model.save(model_file_name)\n",
    "else:\n",
    "    model = Doc2Vec.load(model_file_name)"
   ]
  },
  {
   "cell_type": "code",
   "execution_count": 6,
   "metadata": {},
   "outputs": [
    {
     "data": {
      "text/plain": [
       "([32152, 84918, 104932, 80979, 68902, 121627, 97114, 24113, 45877, 64019],\n",
       " ['strong', 'cherry', 'tannic', 'win'])"
      ]
     },
     "execution_count": 6,
     "metadata": {},
     "output_type": "execute_result"
    }
   ],
   "source": [
    "wl.get_wines_from_desc('strong cherry tannic win',model,topn=10)\n"
   ]
  },
  {
   "cell_type": "code",
   "execution_count": 14,
   "metadata": {},
   "outputs": [
    {
     "data": {
      "text/plain": [
       "([79898, 97111, 51420, 110420, 35233], ['sour', 'cherry', 'strong', 'tannins'])"
      ]
     },
     "execution_count": 14,
     "metadata": {},
     "output_type": "execute_result"
    }
   ],
   "source": [
    "wl.get_wines_from_desc('sour cherry and strong tannins',model,topn=5)\n"
   ]
  },
  {
   "cell_type": "code",
   "execution_count": 26,
   "metadata": {},
   "outputs": [
    {
     "data": {
      "text/plain": [
       "[('gaillac', 0.5281097888946533),\n",
       " ('shape', 0.5210387110710144),\n",
       " ('presently', 0.5131081342697144),\n",
       " ('argentinean', 0.5063772797584534),\n",
       " ('board', 0.5056312084197998),\n",
       " ('respect', 0.5022346377372742),\n",
       " ('softer', 0.4965851306915283),\n",
       " ('sensuous', 0.47983869910240173),\n",
       " ('kirsch', 0.4779838025569916),\n",
       " ('dominated', 0.47423386573791504)]"
      ]
     },
     "execution_count": 26,
     "metadata": {},
     "output_type": "execute_result"
    }
   ],
   "source": [
    "model.wv.most_similar(\"everyday\")"
   ]
  },
  {
   "cell_type": "code",
   "execution_count": 32,
   "metadata": {},
   "outputs": [],
   "source": [
    "a = set([1,3,4,43])\n",
    "a.add(6)"
   ]
  },
  {
   "cell_type": "code",
   "execution_count": 33,
   "metadata": {},
   "outputs": [
    {
     "data": {
      "text/plain": [
       "{1, 3, 4, 6, 43}"
      ]
     },
     "execution_count": 33,
     "metadata": {},
     "output_type": "execute_result"
    }
   ],
   "source": [
    "a"
   ]
  },
  {
   "cell_type": "code",
   "execution_count": 35,
   "metadata": {},
   "outputs": [
    {
     "name": "stdout",
     "output_type": "stream",
     "text": [
      "115 ns ± 13.6 ns per loop (mean ± std. dev. of 7 runs, 1000000 loops each)\n"
     ]
    }
   ],
   "source": [
    "%timeit 'chill' in model.wv.vocab"
   ]
  },
  {
   "cell_type": "code",
   "execution_count": null,
   "metadata": {
    "collapsed": true
   },
   "outputs": [],
   "source": []
  }
 ],
 "metadata": {
  "kernelspec": {
   "display_name": "python3.6 wine",
   "language": "python",
   "name": "wine"
  },
  "language_info": {
   "codemirror_mode": {
    "name": "ipython",
    "version": 3
   },
   "file_extension": ".py",
   "mimetype": "text/x-python",
   "name": "python",
   "nbconvert_exporter": "python",
   "pygments_lexer": "ipython3",
   "version": "3.6.2"
  }
 },
 "nbformat": 4,
 "nbformat_minor": 2
}
