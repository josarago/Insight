{
 "cells": [
  {
   "cell_type": "markdown",
   "metadata": {},
   "source": [
    "# Training the model on the full data set\n",
    "to make every wine accessible, we train the model again on the full dataset"
   ]
  },
  {
   "cell_type": "code",
   "execution_count": 97,
   "metadata": {
    "collapsed": true
   },
   "outputs": [],
   "source": [
    "from IPython.display import display, clear_output\n",
    "import os\n",
    "import seaborn as sns\n",
    "import numpy as np\n",
    "from importlib import reload\n",
    "# import random\n",
    "import pickle\n",
    "# import time\n",
    "# import matplotlib.pyplot as plt\n",
    "# import itertools\n",
    "# from sklearn.feature_extraction.text import TfidfVectorizer\n",
    "# from sklearn.metrics.pairwise import cosine_similarity, cosine_distances\n",
    "# from sklearn.metrics import confusion_matrix\n",
    "\n",
    "# from scipy.spatial.distance import cosine\n",
    "# from nltk.corpus import words\n",
    "# import gensim\n",
    "\n",
    "from gensim.models.doc2vec import Doc2Vec, TaggedDocument\n",
    "# from nltk.tokenize import word_tokenize\n",
    "\n",
    "# from collections import Counter\n",
    "%matplotlib inline\n",
    "from wine_and_cheese_utils import WineList, df_columns, regexp_tokenizer\n",
    "\n",
    "import warnings\n",
    "    \n",
    "warnings.filterwarnings(\"ignore\")"
   ]
  },
  {
   "cell_type": "code",
   "execution_count": 2,
   "metadata": {
    "collapsed": true
   },
   "outputs": [],
   "source": [
    "wl = WineList(file='cleaned')\n"
   ]
  },
  {
   "cell_type": "code",
   "execution_count": 99,
   "metadata": {},
   "outputs": [],
   "source": [
    "# collect the tagged document object and save a dict of tags/set\n",
    "tagged_data = [TaggedDocument(words=wl.tokenize(row.description), tags=[row.Index]) for row in wl.df.itertuples()]\n",
    "file_name = \"tagged_data_set.pkl\"\n",
    "\n",
    "if os.path.exists(file_name):\n",
    "    with open(file_name, 'rb') as f:\n",
    "        tagged_data_set = pickle.load(f)\n",
    "else:\n",
    "    tagged_data_set = dict(zip([x.tags[0] for x in tagged_data], [set(x.words) for x in tagged_data]))\n",
    "    with open(file_name, 'wb') as f:\n",
    "            pickle.dump(tagged_data_set, f, pickle.HIGHEST_PROTOCOL)"
   ]
  },
  {
   "cell_type": "code",
   "execution_count": 4,
   "metadata": {},
   "outputs": [],
   "source": [
    "retrain = False\n",
    "\n",
    "column_name = 'region_1'\n",
    "# load or train the model\n",
    "model_file_name = 'doc2vec_on_{}_no_region_variety_full_dataset.model'.format(column_name)\n",
    "if not os.path.exists(model_file_name) or retrain:\n",
    "    max_epochs = 20\n",
    "    vec_size = 40\n",
    "    alpha = 0.025\n",
    "\n",
    "    model = Doc2Vec(vector_size=vec_size,\n",
    "                    alpha=alpha, \n",
    "    #                 min_alpha=0.00025,\n",
    "                    min_count=10,\n",
    "                    dm =0)\n",
    "\n",
    "    model.build_vocab(tagged_data)\n",
    "\n",
    "    for epoch in range(max_epochs):\n",
    "        clear_output(wait=True)\n",
    "        display('iteration {0}'.format(epoch))\n",
    "        model.train(tagged_data,\n",
    "                    total_examples=model.corpus_count,\n",
    "                    epochs=model.epochs)\n",
    "        # decrease the learning rate\n",
    "        model.alpha -= 0.0002\n",
    "        # fix the learning rate, no decay\n",
    "        model.min_alpha = model.alpha\n",
    "\n",
    "    model.save(model_file_name)\n",
    "else:\n",
    "    model = Doc2Vec.load(model_file_name)"
   ]
  },
  {
   "cell_type": "code",
   "execution_count": 90,
   "metadata": {},
   "outputs": [
    {
     "name": "stderr",
     "output_type": "stream",
     "text": [
      "IOPub data rate exceeded.\n",
      "The notebook server will temporarily stop sending output\n",
      "to the client in order to avoid crashing it.\n",
      "To change this limit, set the config variable\n",
      "`--NotebookApp.iopub_data_rate_limit`.\n"
     ]
    }
   ],
   "source": [
    "\n",
    "\n"
   ]
  },
  {
   "cell_type": "code",
   "execution_count": 93,
   "metadata": {},
   "outputs": [
    {
     "name": "stdout",
     "output_type": "stream",
     "text": [
      "103 ms ± 3.85 ms per loop (mean ± std. dev. of 7 runs, 10 loops each)\n",
      "44.7 ms ± 2.35 ms per loop (mean ± std. dev. of 7 runs, 10 loops each)\n"
     ]
    }
   ],
   "source": [
    "# all(elem in list1  for elem in list2)\n",
    "# %timeit ok = [all(elem in [\"lime\",\"white\",\"peach\"] for elem in x.words) for x in tagged_data]\n",
    "# test = wl.df.description.str.contains(\"black-currant\")\n",
    "# test2=pd.Series(index=[x.tags[0] for x in tagged_data])\n",
    "desc = [\"lime\"] \n",
    "def get_description_match_series(desc):\n",
    "    indexes = index=[x.tags[0] for x in tagged_data]\n",
    "    data=[all(elem in desc for elem in x.words) for x in tagged_data]\n",
    "    return data\n",
    "#     return pd.Series(data=[all(elem in desc for elem in x.words) for x in tagged_data],index=indexes)\n",
    "%timeit get_description_match_series(desc)\n",
    "\n",
    "def get_description_match_series_from_sets(desc,tagged_data_set):\n",
    "    set_desc = set(desc)\n",
    "    indexes = index=[x.tags[0] for x in tagged_data]\n",
    "    data=[set_desc.issubset(this_set) for this_set in tagged_data_set.values()]\n",
    "    return data\n",
    "#     return pd.Series(data=[all(elem in desc for elem in x.words) for x in tagged_data],index=indexes)\n",
    "%timeit get_description_match_series_from_sets(desc,tagged_data_set)"
   ]
  },
  {
   "cell_type": "code",
   "execution_count": 84,
   "metadata": {},
   "outputs": [
    {
     "data": {
      "text/plain": [
       "['tart',\n",
       " 'snappy',\n",
       " 'flavors',\n",
       " 'lime',\n",
       " 'flesh',\n",
       " 'rind',\n",
       " 'dominate',\n",
       " 'green',\n",
       " 'pineapple',\n",
       " 'pokes',\n",
       " 'crisp',\n",
       " 'acidity',\n",
       " 'underscoring',\n",
       " 'flavors',\n",
       " 'wine',\n",
       " 'stainless',\n",
       " 'steel',\n",
       " 'fermented']"
      ]
     },
     "execution_count": 84,
     "metadata": {},
     "output_type": "execute_result"
    }
   ],
   "source": []
  },
  {
   "cell_type": "code",
   "execution_count": 95,
   "metadata": {},
   "outputs": [
    {
     "ename": "TypeError",
     "evalue": "accuracy() missing 1 required positional argument: 'questions'",
     "output_type": "error",
     "traceback": [
      "\u001b[0;31m---------------------------------------------------------------------------\u001b[0m",
      "\u001b[0;31mTypeError\u001b[0m                                 Traceback (most recent call last)",
      "\u001b[0;32m<ipython-input-95-af9e8525f988>\u001b[0m in \u001b[0;36m<module>\u001b[0;34m()\u001b[0m\n\u001b[0;32m----> 1\u001b[0;31m \u001b[0mmodel\u001b[0m\u001b[0;34m.\u001b[0m\u001b[0mwv\u001b[0m\u001b[0;34m.\u001b[0m\u001b[0maccuracy\u001b[0m\u001b[0;34m(\u001b[0m\u001b[0;34m)\u001b[0m\u001b[0;34m\u001b[0m\u001b[0m\n\u001b[0m",
      "\u001b[0;32m~/miniconda3/envs/wine/lib/python3.6/site-packages/gensim/utils.py\u001b[0m in \u001b[0;36mnew_func1\u001b[0;34m(*args, **kwargs)\u001b[0m\n\u001b[1;32m   1420\u001b[0m                     \u001b[0mstacklevel\u001b[0m\u001b[0;34m=\u001b[0m\u001b[0;36m2\u001b[0m\u001b[0;34m\u001b[0m\u001b[0m\n\u001b[1;32m   1421\u001b[0m                 )\n\u001b[0;32m-> 1422\u001b[0;31m                 \u001b[0;32mreturn\u001b[0m \u001b[0mfunc\u001b[0m\u001b[0;34m(\u001b[0m\u001b[0;34m*\u001b[0m\u001b[0margs\u001b[0m\u001b[0;34m,\u001b[0m \u001b[0;34m**\u001b[0m\u001b[0mkwargs\u001b[0m\u001b[0;34m)\u001b[0m\u001b[0;34m\u001b[0m\u001b[0m\n\u001b[0m\u001b[1;32m   1423\u001b[0m \u001b[0;34m\u001b[0m\u001b[0m\n\u001b[1;32m   1424\u001b[0m             \u001b[0;32mreturn\u001b[0m \u001b[0mnew_func1\u001b[0m\u001b[0;34m\u001b[0m\u001b[0m\n",
      "\u001b[0;31mTypeError\u001b[0m: accuracy() missing 1 required positional argument: 'questions'"
     ]
    }
   ],
   "source": [
    "\n"
   ]
  },
  {
   "cell_type": "code",
   "execution_count": 32,
   "metadata": {},
   "outputs": [],
   "source": [
    "a = set([1,3,4,43])\n",
    "a.add(6)"
   ]
  },
  {
   "cell_type": "code",
   "execution_count": 33,
   "metadata": {},
   "outputs": [
    {
     "data": {
      "text/plain": [
       "{1, 3, 4, 6, 43}"
      ]
     },
     "execution_count": 33,
     "metadata": {},
     "output_type": "execute_result"
    }
   ],
   "source": [
    "a"
   ]
  },
  {
   "cell_type": "code",
   "execution_count": 35,
   "metadata": {},
   "outputs": [
    {
     "name": "stdout",
     "output_type": "stream",
     "text": [
      "115 ns ± 13.6 ns per loop (mean ± std. dev. of 7 runs, 1000000 loops each)\n"
     ]
    }
   ],
   "source": [
    "%timeit 'chill' in model.wv.vocab"
   ]
  },
  {
   "cell_type": "code",
   "execution_count": null,
   "metadata": {
    "collapsed": true
   },
   "outputs": [],
   "source": []
  }
 ],
 "metadata": {
  "kernelspec": {
   "display_name": "python3.6 wine",
   "language": "python",
   "name": "wine"
  },
  "language_info": {
   "codemirror_mode": {
    "name": "ipython",
    "version": 3
   },
   "file_extension": ".py",
   "mimetype": "text/x-python",
   "name": "python",
   "nbconvert_exporter": "python",
   "pygments_lexer": "ipython3",
   "version": "3.6.2"
  }
 },
 "nbformat": 4,
 "nbformat_minor": 2
}
