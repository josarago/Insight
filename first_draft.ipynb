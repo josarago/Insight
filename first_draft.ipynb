{
 "cells": [
  {
   "cell_type": "code",
   "execution_count": 11,
   "metadata": {
    "collapsed": true
   },
   "outputs": [],
   "source": [
    "from IPython.display import display, clear_output\n",
    "import os\n",
    "from sqlalchemy import create_engine\n",
    "from sqlalchemy_utils import database_exists, create_database\n",
    "import psycopg2\n",
    "import datetime\n",
    "import pandas as pd\n",
    "import numpy as np\n",
    "import requests\n",
    "import time\n",
    "from bs4 import BeautifulSoup\n",
    "import matplotlib.pyplot as plt\n",
    "import gmplot\n",
    "from geopy.geocoders import Nominatim\n",
    "%matplotlib inline"
   ]
  },
  {
   "cell_type": "code",
   "execution_count": 4,
   "metadata": {},
   "outputs": [],
   "source": [
    "# define the class cheese\n",
    "class RawCheese:\n",
    "    def __init__(self,cheese_name):\n",
    "        self.url_name = cheese_name\n",
    "        self.cheese_com_url = 'https://www.cheese.com/{}/'.format(cheese_name)\n",
    "        self.dump = []\n",
    "        self.soup = None\n",
    "    \n",
    "    def get_soup(self):\n",
    "        if not self.soup:\n",
    "            r = requests.get(self.cheese_com_url)\n",
    "            self.soup = BeautifulSoup(r.content, 'html.parser')\n",
    "                \n",
    "    @property\n",
    "    def dict(self):\n",
    "        self.get_soup()\n",
    "        cheese_dict = {'name': self.url_name}\n",
    "        summary_points = self.soup.find_all(\"ul\", {\"class\": \"summary-points\"})\n",
    "        features_list = [x.text for x in summary_points[0].find_all(\"p\")]\n",
    "        for feature in features_list:\n",
    "            if \":\" in feature:\n",
    "                split_feature = feature.split(\":\")\n",
    "                feature_key = split_feature[0].lower().replace(\" \",\"_\")\n",
    "                feature_val = split_feature[1].strip().lower()\n",
    "                cheese_dict[feature_key]=feature_val\n",
    "            elif \"Made from\" in feature:\n",
    "                feature_key = 'ingredients'\n",
    "                feature_val = feature.split(\"Made from\")[1].lower()\n",
    "                cheese_dict[feature_key]=feature_val.strip()\n",
    "            else:\n",
    "                self.dump.append(feature)\n",
    "        return cheese_dict\n",
    "\n",
    "def get_cheeses_url_names(soup):\n",
    "    \"\"\"\n",
    "        given a soup, extract all the cheeses url names present in the corresponding page\n",
    "    \"\"\"\n",
    "    cheeses_url_names = []\n",
    "    cheeses_divs = soup.find_all(\"div\", {\"class\": \"col-sm-6 col-md-4 cheese-item text-center\"})\n",
    "    for cheese_div in cheeses_divs:\n",
    "        cheeses_url_names.append(cheese_div.find(\"h3\").findChild().attrs['href'].replace(\"/\",\"\"))\n",
    "    return cheeses_url_names\n",
    "\n",
    "def get_all_cheeses_url_names():\n",
    "    all_cheeses_url_names = set()\n",
    "    # Create alphabet list of lowercase letters\n",
    "    alphabet = []\n",
    "    for letter in range(97,123):\n",
    "        alphabet.append(chr(letter))\n",
    "    for letter in alphabet:\n",
    "        keep_going=True\n",
    "        n=0\n",
    "        print(letter)\n",
    "        while keep_going and n<5:\n",
    "            n+=1\n",
    "            letter_url = \"https://www.cheese.com/alphabetical/?per_page=100&i={}&page={}#top\".format(letter,n)\n",
    "            clear_output(wait=True)\n",
    "            display(\"getting letter {} page #{}\".format(letter,n))\n",
    "            time.sleep(0.1) \n",
    "            r = requests.get(letter_url)\n",
    "            soup = BeautifulSoup(r.content,'html.parser')\n",
    "            page_cheeses_url_names = set(get_cheeses_url_names(soup))\n",
    "            diff = page_cheeses_url_names.difference(set(all_cheeses_url_names))\n",
    "            if not diff:\n",
    "                keep_going = False\n",
    "            else:\n",
    "                all_cheeses_url_names.update(diff)\n",
    "    return sorted(list(all_cheeses_url_names))\n",
    "\n",
    "def get_raw_cheeses_df(all_cheeses_url_names):\n",
    "    # creates the cheese data frame                \n",
    "    columns = [\"name\"]\n",
    "    raw_cheeses_df = pd.DataFrame(columns=columns)\n",
    "    raw_cheeses_df.set_index(\"name\")               \n",
    "    for cheese_url in all_cheeses_url_names:\n",
    "        clear_output(wait=True)\n",
    "        display(\"getting cheese {}\".format(cheese_url))\n",
    "        raw_cheese = RawCheese(cheese_url)\n",
    "        time.sleep(0.1)\n",
    "        raw_cheeses_df = raw_cheeses_df.append(raw_cheese.dict, ignore_index=True)\n",
    "    return raw_cheeses_df\n",
    "    "
   ]
  },
  {
   "cell_type": "code",
   "execution_count": 5,
   "metadata": {},
   "outputs": [
    {
     "data": {
      "text/plain": [
       "'getting letter z page #2'"
      ]
     },
     "metadata": {},
     "output_type": "display_data"
    }
   ],
   "source": [
    "all_cheeses_url_names = get_all_cheeses_url_names()"
   ]
  },
  {
   "cell_type": "code",
   "execution_count": 6,
   "metadata": {
    "scrolled": true
   },
   "outputs": [
    {
     "data": {
      "text/plain": [
       "'getting cheese zwitser'"
      ]
     },
     "metadata": {},
     "output_type": "display_data"
    }
   ],
   "source": [
    "raw_cheeses_df = get_raw_cheeses_df(all_cheeses_url_names)"
   ]
  },
  {
   "cell_type": "code",
   "execution_count": 15,
   "metadata": {},
   "outputs": [],
   "source": [
    "raw_cheeses_df.to_csv('raw_cheese_df.csv')"
   ]
  },
  {
   "cell_type": "code",
   "execution_count": 8,
   "metadata": {},
   "outputs": [
    {
     "data": {
      "text/plain": [
       "{nan,\n",
       " \"goat's and sheep's milk\",\n",
       " \"pasteurized goat's or sheep's milk\",\n",
       " \"unpasteurized goat's and sheep's milk\",\n",
       " \"pasteurized or unpasteurized cow's, goat's and sheep's milk\",\n",
       " \"moose's milk\",\n",
       " \"donkey's milk\",\n",
       " \"cow's and sheep's milk\",\n",
       " \"pasteurized goat's milk\",\n",
       " \"goat's milk\",\n",
       " \"mare's milk\",\n",
       " \"yak's milk\",\n",
       " \"unpasteurized cow's and sheep's milk\",\n",
       " \"pasteurized buffalo's or cow's milk\",\n",
       " \"cow's and goat's milk\",\n",
       " \"buffalo's milk\",\n",
       " \"unpasteurized cow's or goat's milk\",\n",
       " \"pasteurized cow's or water buffalo's milk\",\n",
       " \"pasteurized cow's, goat's and water buffalo's milk\",\n",
       " \"cow's or sheep's milk\",\n",
       " \"water buffalo's milk\",\n",
       " \"unpasteurized cow's, goat's and sheep's milk\",\n",
       " \"cow's, goat's or sheep's milk\",\n",
       " \"pasteurized sheep's milk\",\n",
       " \"pasteurized water buffalo's milk\",\n",
       " \"pasteurized or unpasteurized cow's, goat's, sheep's and water buffalo's milk\",\n",
       " \"pasteurized or unpasteurized cow's or sheep's milk\",\n",
       " \"pasteurized or unpasteurized cow's or water buffalo's milk\",\n",
       " \"cow's, goat's and sheep's milk\",\n",
       " \"unpasteurized cow's or sheep's milk\",\n",
       " \"buffalo's, cow's and sheep's milk\",\n",
       " \"pasteurized or unpasteurized sheep's milk\",\n",
       " \"pasteurized or unpasteurized cow's milk\",\n",
       " \"cow's, goat's, sheep's or water buffalo's milk\",\n",
       " \"unpasteurized cow's and goat's milk\",\n",
       " \"pasteurized or unpasteurized cow's and goat's milk\",\n",
       " \"unpasteurized cow's, goat's or sheep's milk\",\n",
       " \"pasteurized cow's or sheep's milk\",\n",
       " \"unpasteurized sheep's milk\",\n",
       " \"pasteurized cow's and goat's milk\",\n",
       " \"pasteurized cow's, goat's or reindeer's milk\",\n",
       " \"pasteurized or unpasteurized water buffalo's milk\",\n",
       " \"pasteurized or unpasteurized cow's and sheep's milk\",\n",
       " \"goat's or sheep's milk\",\n",
       " \"pasteurized cow's and sheep's milk\",\n",
       " \"unpasteurized cow's milk\",\n",
       " \"buffalo's and cow's milk\",\n",
       " \"pasteurized or unpasteurized cow's, goat's or sheep's milk\",\n",
       " \"pasteurized or unpasteurized goat's milk\",\n",
       " \"pasteurized cow's and water buffalo's milk\",\n",
       " \"pasteurized or unpasteurized goat's and sheep's milk\",\n",
       " \"cow's or yak's milk\",\n",
       " \"sheep's milk\",\n",
       " \"pasteurized buffalo's milk\",\n",
       " \"cow's and water buffalo's milk\",\n",
       " \"pasteurized cow's, goat's or sheep's milk\",\n",
       " \"pasteurized camel's milk\",\n",
       " \"cow's or goat's milk\",\n",
       " \"cow's milk\",\n",
       " \"camel's or sheep's milk\",\n",
       " \"pasteurized or unpasteurized cow's or goat's milk\",\n",
       " \"unpasteurized goat's or sheep's milk\",\n",
       " \"pasteurized cow's or goat's milk\",\n",
       " \"pasteurized cow's milk\",\n",
       " \"pasteurized goat's and sheep's milk\",\n",
       " \"pasteurized cow's, goat's and sheep's milk\",\n",
       " \"unpasteurized water buffalo's milk\",\n",
       " \"goat's or yak's milk\",\n",
       " \"unpasteurized goat's milk\"}"
      ]
     },
     "execution_count": 8,
     "metadata": {},
     "output_type": "execute_result"
    }
   ],
   "source": [
    "set(raw_cheeses_df['ingredients'])"
   ]
  },
  {
   "cell_type": "code",
   "execution_count": 9,
   "metadata": {},
   "outputs": [
    {
     "data": {
      "text/plain": [
       "{nan,\n",
       " 'mold ripened',\n",
       " 'waxed',\n",
       " 'artificial',\n",
       " 'cloth wrapped',\n",
       " 'bloomy',\n",
       " 'plastic',\n",
       " 'washed',\n",
       " 'leaf wrapped',\n",
       " 'rindless',\n",
       " 'natural',\n",
       " 'ash coated'}"
      ]
     },
     "execution_count": 9,
     "metadata": {},
     "output_type": "execute_result"
    }
   ],
   "source": [
    "set(raw_cheeses_df['rind'])"
   ]
  },
  {
   "cell_type": "code",
   "execution_count": 16,
   "metadata": {},
   "outputs": [
    {
     "data": {
      "text/plain": [
       "Index(['name', 'aroma', 'colour', 'country_of_origin', 'family', 'flavour',\n",
       "       'ingredients', 'producers', 'region', 'rind', 'texture', 'type',\n",
       "       'vegetarian', 'synonyms', 'fat_content', 'alternative_spellings',\n",
       "       'calcium_content', 'fat_content_(in_dry_matter)'],\n",
       "      dtype='object')"
      ]
     },
     "execution_count": 16,
     "metadata": {},
     "output_type": "execute_result"
    }
   ],
   "source": [
    "raw_cheeses_df.keys()"
   ]
  },
  {
   "cell_type": "code",
   "execution_count": 37,
   "metadata": {},
   "outputs": [
    {
     "name": "stdout",
     "output_type": "stream",
     "text": [
      "buttery, salty, tangy\n",
      "burnt caramel\n",
      "nan\n"
     ]
    },
    {
     "ename": "AttributeError",
     "evalue": "'float' object has no attribute 'split'",
     "output_type": "error",
     "traceback": [
      "\u001b[0;31m---------------------------------------------------------------------------\u001b[0m",
      "\u001b[0;31mAttributeError\u001b[0m                            Traceback (most recent call last)",
      "\u001b[0;32m<ipython-input-37-b98ddedae13f>\u001b[0m in \u001b[0;36m<module>\u001b[0;34m()\u001b[0m\n\u001b[1;32m      3\u001b[0m     \u001b[0;32mif\u001b[0m \u001b[0mthese_flavors\u001b[0m\u001b[0;34m:\u001b[0m\u001b[0;34m\u001b[0m\u001b[0m\n\u001b[1;32m      4\u001b[0m         \u001b[0mprint\u001b[0m\u001b[0;34m(\u001b[0m\u001b[0mthese_flavors\u001b[0m\u001b[0;34m)\u001b[0m\u001b[0;34m\u001b[0m\u001b[0m\n\u001b[0;32m----> 5\u001b[0;31m         \u001b[0mthese_flavors_list\u001b[0m \u001b[0;34m=\u001b[0m \u001b[0;34m[\u001b[0m\u001b[0mthese_flavors\u001b[0m\u001b[0;34m.\u001b[0m\u001b[0mstrip\u001b[0m\u001b[0;34m(\u001b[0m\u001b[0;34m)\u001b[0m \u001b[0;32mfor\u001b[0m \u001b[0mflavour\u001b[0m \u001b[0;32min\u001b[0m \u001b[0mthese_flavors\u001b[0m\u001b[0;34m.\u001b[0m\u001b[0msplit\u001b[0m\u001b[0;34m(\u001b[0m\u001b[0;34m','\u001b[0m\u001b[0;34m)\u001b[0m\u001b[0;34m]\u001b[0m\u001b[0;34m\u001b[0m\u001b[0m\n\u001b[0m\u001b[1;32m      6\u001b[0m         \u001b[0mflavours\u001b[0m\u001b[0;34m.\u001b[0m\u001b[0mupdate\u001b[0m\u001b[0;34m(\u001b[0m\u001b[0mthese_flavors_list\u001b[0m\u001b[0;34m)\u001b[0m\u001b[0;34m\u001b[0m\u001b[0m\n\u001b[1;32m      7\u001b[0m \u001b[0;34m\u001b[0m\u001b[0m\n",
      "\u001b[0;31mAttributeError\u001b[0m: 'float' object has no attribute 'split'"
     ]
    }
   ],
   "source": [
    "flavours = set()\n",
    "for these_flavors in raw_cheeses_df['flavour']:\n",
    "    if these_flavors:\n",
    "        print(these_flavors)\n",
    "        these_flavors_list = [these_flavors.strip() for flavour in these_flavors.split(',')]\n",
    "        flavours.update(these_flavors_list)\n",
    "    "
   ]
  },
  {
   "cell_type": "code",
   "execution_count": 36,
   "metadata": {},
   "outputs": [],
   "source": [
    "these_flavors = [flavour.strip() for flavour in raw_cheeses_df['flavour'][0].split(',')]"
   ]
  },
  {
   "cell_type": "code",
   "execution_count": 28,
   "metadata": {},
   "outputs": [
    {
     "data": {
      "text/plain": [
       "['buttery', ' salty', ' tangy']"
      ]
     },
     "execution_count": 28,
     "metadata": {},
     "output_type": "execute_result"
    }
   ],
   "source": [
    "raw_cheeses_df['flavour'][0].split(',')\n",
    "            "
   ]
  },
  {
   "cell_type": "code",
   "execution_count": 31,
   "metadata": {},
   "outputs": [],
   "source": [
    "flavours.update(these_flavors)"
   ]
  },
  {
   "cell_type": "code",
   "execution_count": 32,
   "metadata": {},
   "outputs": [
    {
     "data": {
      "text/plain": [
       "{'buttery', 'salty', 'tangy'}"
      ]
     },
     "execution_count": 32,
     "metadata": {},
     "output_type": "execute_result"
    }
   ],
   "source": [
    "flavours"
   ]
  },
  {
   "cell_type": "code",
   "execution_count": 39,
   "metadata": {},
   "outputs": [
    {
     "data": {
      "text/plain": [
       "float"
      ]
     },
     "execution_count": 39,
     "metadata": {},
     "output_type": "execute_result"
    }
   ],
   "source": [
    "these_flavors.__class__"
   ]
  },
  {
   "cell_type": "code",
   "execution_count": null,
   "metadata": {},
   "outputs": [],
   "source": []
  },
  {
   "cell_type": "code",
   "execution_count": null,
   "metadata": {},
   "outputs": [],
   "source": []
  },
  {
   "cell_type": "code",
   "execution_count": null,
   "metadata": {},
   "outputs": [],
   "source": []
  },
  {
   "cell_type": "code",
   "execution_count": null,
   "metadata": {},
   "outputs": [],
   "source": []
  },
  {
   "cell_type": "code",
   "execution_count": null,
   "metadata": {},
   "outputs": [],
   "source": []
  },
  {
   "cell_type": "code",
   "execution_count": null,
   "metadata": {
    "collapsed": true
   },
   "outputs": [],
   "source": []
  },
  {
   "cell_type": "code",
   "execution_count": null,
   "metadata": {},
   "outputs": [],
   "source": []
  },
  {
   "cell_type": "code",
   "execution_count": null,
   "metadata": {},
   "outputs": [],
   "source": []
  },
  {
   "cell_type": "code",
   "execution_count": null,
   "metadata": {},
   "outputs": [],
   "source": []
  },
  {
   "cell_type": "code",
   "execution_count": null,
   "metadata": {},
   "outputs": [],
   "source": []
  },
  {
   "cell_type": "code",
   "execution_count": null,
   "metadata": {},
   "outputs": [],
   "source": []
  },
  {
   "cell_type": "code",
   "execution_count": null,
   "metadata": {},
   "outputs": [],
   "source": []
  },
  {
   "cell_type": "code",
   "execution_count": null,
   "metadata": {},
   "outputs": [],
   "source": []
  },
  {
   "cell_type": "code",
   "execution_count": null,
   "metadata": {},
   "outputs": [],
   "source": []
  },
  {
   "cell_type": "code",
   "execution_count": null,
   "metadata": {},
   "outputs": [],
   "source": []
  },
  {
   "cell_type": "code",
   "execution_count": null,
   "metadata": {},
   "outputs": [],
   "source": []
  },
  {
   "cell_type": "code",
   "execution_count": null,
   "metadata": {},
   "outputs": [],
   "source": []
  },
  {
   "cell_type": "code",
   "execution_count": null,
   "metadata": {},
   "outputs": [],
   "source": []
  },
  {
   "cell_type": "code",
   "execution_count": null,
   "metadata": {
    "collapsed": true
   },
   "outputs": [],
   "source": []
  },
  {
   "cell_type": "code",
   "execution_count": null,
   "metadata": {
    "collapsed": true
   },
   "outputs": [],
   "source": []
  }
 ],
 "metadata": {
  "kernelspec": {
   "display_name": "Python (insight)",
   "language": "python",
   "name": "insight"
  },
  "language_info": {
   "codemirror_mode": {
    "name": "ipython",
    "version": 3
   },
   "file_extension": ".py",
   "mimetype": "text/x-python",
   "name": "python",
   "nbconvert_exporter": "python",
   "pygments_lexer": "ipython3",
   "version": "3.6.2"
  }
 },
 "nbformat": 4,
 "nbformat_minor": 2
}
